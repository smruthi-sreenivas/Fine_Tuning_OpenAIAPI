{
  "nbformat": 4,
  "nbformat_minor": 0,
  "metadata": {
    "colab": {
      "provenance": [],
      "authorship_tag": "ABX9TyNjrAdkAMvQSysVLgqsd4kT",
      "include_colab_link": true
    },
    "kernelspec": {
      "name": "python3",
      "display_name": "Python 3"
    },
    "language_info": {
      "name": "python"
    }
  },
  "cells": [
    {
      "cell_type": "markdown",
      "metadata": {
        "id": "view-in-github",
        "colab_type": "text"
      },
      "source": [
        "<a href=\"https://colab.research.google.com/github/smruthi-sreenivas/Fine_Tuning_OpenAIAPI/blob/main/Customer_Support.ipynb\" target=\"_parent\"><img src=\"https://colab.research.google.com/assets/colab-badge.svg\" alt=\"Open In Colab\"/></a>"
      ]
    },
    {
      "cell_type": "code",
      "execution_count": 4,
      "metadata": {
        "id": "3Ge40gTuByi8"
      },
      "outputs": [],
      "source": [
        "#Import libraries\n",
        "import os\n",
        "import pandas as pd\n",
        "from openai import OpenAI\n",
        "import json"
      ]
    },
    {
      "cell_type": "code",
      "source": [
        "#set up API key\n",
        "\n",
        "os.environ[\"OPENAI_API_KEY\"] = 'sk-YA'"
      ],
      "metadata": {
        "id": "HXCRNmNNCHtC"
      },
      "execution_count": 8,
      "outputs": []
    },
    {
      "cell_type": "code",
      "source": [
        "# prepare the dataset\n",
        "\n",
        "df = pd.read_csv('/content/Customer-Support.csv')\n",
        "df.head()"
      ],
      "metadata": {
        "colab": {
          "base_uri": "https://localhost:8080/",
          "height": 206
        },
        "id": "jw8xz3OACfMT",
        "outputId": "ac52071e-3fab-47ca-8e11-f7a90f1a02a7"
      },
      "execution_count": 5,
      "outputs": [
        {
          "output_type": "execute_result",
          "data": {
            "text/plain": [
              "                                   query  \\\n",
              "0           My order hasn't arrived yet.   \n",
              "1          I received a damaged product.   \n",
              "2              I need to return an item.   \n",
              "3  I want to change my shipping address.   \n",
              "4       I have a question about my bill.   \n",
              "\n",
              "                                            response  \n",
              "0  We apologize for the inconvenience. Can you pl...  \n",
              "1  We apologize for the inconvenience. Can you pl...  \n",
              "2  Certainly. Please provide your order number an...  \n",
              "3  No problem. Can you please provide your order ...  \n",
              "4  We'd be happy to help. Can you please provide ...  "
            ],
            "text/html": [
              "\n",
              "  <div id=\"df-80720439-d80d-495d-9549-256b1aaf593b\" class=\"colab-df-container\">\n",
              "    <div>\n",
              "<style scoped>\n",
              "    .dataframe tbody tr th:only-of-type {\n",
              "        vertical-align: middle;\n",
              "    }\n",
              "\n",
              "    .dataframe tbody tr th {\n",
              "        vertical-align: top;\n",
              "    }\n",
              "\n",
              "    .dataframe thead th {\n",
              "        text-align: right;\n",
              "    }\n",
              "</style>\n",
              "<table border=\"1\" class=\"dataframe\">\n",
              "  <thead>\n",
              "    <tr style=\"text-align: right;\">\n",
              "      <th></th>\n",
              "      <th>query</th>\n",
              "      <th>response</th>\n",
              "    </tr>\n",
              "  </thead>\n",
              "  <tbody>\n",
              "    <tr>\n",
              "      <th>0</th>\n",
              "      <td>My order hasn't arrived yet.</td>\n",
              "      <td>We apologize for the inconvenience. Can you pl...</td>\n",
              "    </tr>\n",
              "    <tr>\n",
              "      <th>1</th>\n",
              "      <td>I received a damaged product.</td>\n",
              "      <td>We apologize for the inconvenience. Can you pl...</td>\n",
              "    </tr>\n",
              "    <tr>\n",
              "      <th>2</th>\n",
              "      <td>I need to return an item.</td>\n",
              "      <td>Certainly. Please provide your order number an...</td>\n",
              "    </tr>\n",
              "    <tr>\n",
              "      <th>3</th>\n",
              "      <td>I want to change my shipping address.</td>\n",
              "      <td>No problem. Can you please provide your order ...</td>\n",
              "    </tr>\n",
              "    <tr>\n",
              "      <th>4</th>\n",
              "      <td>I have a question about my bill.</td>\n",
              "      <td>We'd be happy to help. Can you please provide ...</td>\n",
              "    </tr>\n",
              "  </tbody>\n",
              "</table>\n",
              "</div>\n",
              "    <div class=\"colab-df-buttons\">\n",
              "\n",
              "  <div class=\"colab-df-container\">\n",
              "    <button class=\"colab-df-convert\" onclick=\"convertToInteractive('df-80720439-d80d-495d-9549-256b1aaf593b')\"\n",
              "            title=\"Convert this dataframe to an interactive table.\"\n",
              "            style=\"display:none;\">\n",
              "\n",
              "  <svg xmlns=\"http://www.w3.org/2000/svg\" height=\"24px\" viewBox=\"0 -960 960 960\">\n",
              "    <path d=\"M120-120v-720h720v720H120Zm60-500h600v-160H180v160Zm220 220h160v-160H400v160Zm0 220h160v-160H400v160ZM180-400h160v-160H180v160Zm440 0h160v-160H620v160ZM180-180h160v-160H180v160Zm440 0h160v-160H620v160Z\"/>\n",
              "  </svg>\n",
              "    </button>\n",
              "\n",
              "  <style>\n",
              "    .colab-df-container {\n",
              "      display:flex;\n",
              "      gap: 12px;\n",
              "    }\n",
              "\n",
              "    .colab-df-convert {\n",
              "      background-color: #E8F0FE;\n",
              "      border: none;\n",
              "      border-radius: 50%;\n",
              "      cursor: pointer;\n",
              "      display: none;\n",
              "      fill: #1967D2;\n",
              "      height: 32px;\n",
              "      padding: 0 0 0 0;\n",
              "      width: 32px;\n",
              "    }\n",
              "\n",
              "    .colab-df-convert:hover {\n",
              "      background-color: #E2EBFA;\n",
              "      box-shadow: 0px 1px 2px rgba(60, 64, 67, 0.3), 0px 1px 3px 1px rgba(60, 64, 67, 0.15);\n",
              "      fill: #174EA6;\n",
              "    }\n",
              "\n",
              "    .colab-df-buttons div {\n",
              "      margin-bottom: 4px;\n",
              "    }\n",
              "\n",
              "    [theme=dark] .colab-df-convert {\n",
              "      background-color: #3B4455;\n",
              "      fill: #D2E3FC;\n",
              "    }\n",
              "\n",
              "    [theme=dark] .colab-df-convert:hover {\n",
              "      background-color: #434B5C;\n",
              "      box-shadow: 0px 1px 3px 1px rgba(0, 0, 0, 0.15);\n",
              "      filter: drop-shadow(0px 1px 2px rgba(0, 0, 0, 0.3));\n",
              "      fill: #FFFFFF;\n",
              "    }\n",
              "  </style>\n",
              "\n",
              "    <script>\n",
              "      const buttonEl =\n",
              "        document.querySelector('#df-80720439-d80d-495d-9549-256b1aaf593b button.colab-df-convert');\n",
              "      buttonEl.style.display =\n",
              "        google.colab.kernel.accessAllowed ? 'block' : 'none';\n",
              "\n",
              "      async function convertToInteractive(key) {\n",
              "        const element = document.querySelector('#df-80720439-d80d-495d-9549-256b1aaf593b');\n",
              "        const dataTable =\n",
              "          await google.colab.kernel.invokeFunction('convertToInteractive',\n",
              "                                                    [key], {});\n",
              "        if (!dataTable) return;\n",
              "\n",
              "        const docLinkHtml = 'Like what you see? Visit the ' +\n",
              "          '<a target=\"_blank\" href=https://colab.research.google.com/notebooks/data_table.ipynb>data table notebook</a>'\n",
              "          + ' to learn more about interactive tables.';\n",
              "        element.innerHTML = '';\n",
              "        dataTable['output_type'] = 'display_data';\n",
              "        await google.colab.output.renderOutput(dataTable, element);\n",
              "        const docLink = document.createElement('div');\n",
              "        docLink.innerHTML = docLinkHtml;\n",
              "        element.appendChild(docLink);\n",
              "      }\n",
              "    </script>\n",
              "  </div>\n",
              "\n",
              "\n",
              "<div id=\"df-eeb0486b-86d1-45c4-86fb-8daca295ee3e\">\n",
              "  <button class=\"colab-df-quickchart\" onclick=\"quickchart('df-eeb0486b-86d1-45c4-86fb-8daca295ee3e')\"\n",
              "            title=\"Suggest charts\"\n",
              "            style=\"display:none;\">\n",
              "\n",
              "<svg xmlns=\"http://www.w3.org/2000/svg\" height=\"24px\"viewBox=\"0 0 24 24\"\n",
              "     width=\"24px\">\n",
              "    <g>\n",
              "        <path d=\"M19 3H5c-1.1 0-2 .9-2 2v14c0 1.1.9 2 2 2h14c1.1 0 2-.9 2-2V5c0-1.1-.9-2-2-2zM9 17H7v-7h2v7zm4 0h-2V7h2v10zm4 0h-2v-4h2v4z\"/>\n",
              "    </g>\n",
              "</svg>\n",
              "  </button>\n",
              "\n",
              "<style>\n",
              "  .colab-df-quickchart {\n",
              "      --bg-color: #E8F0FE;\n",
              "      --fill-color: #1967D2;\n",
              "      --hover-bg-color: #E2EBFA;\n",
              "      --hover-fill-color: #174EA6;\n",
              "      --disabled-fill-color: #AAA;\n",
              "      --disabled-bg-color: #DDD;\n",
              "  }\n",
              "\n",
              "  [theme=dark] .colab-df-quickchart {\n",
              "      --bg-color: #3B4455;\n",
              "      --fill-color: #D2E3FC;\n",
              "      --hover-bg-color: #434B5C;\n",
              "      --hover-fill-color: #FFFFFF;\n",
              "      --disabled-bg-color: #3B4455;\n",
              "      --disabled-fill-color: #666;\n",
              "  }\n",
              "\n",
              "  .colab-df-quickchart {\n",
              "    background-color: var(--bg-color);\n",
              "    border: none;\n",
              "    border-radius: 50%;\n",
              "    cursor: pointer;\n",
              "    display: none;\n",
              "    fill: var(--fill-color);\n",
              "    height: 32px;\n",
              "    padding: 0;\n",
              "    width: 32px;\n",
              "  }\n",
              "\n",
              "  .colab-df-quickchart:hover {\n",
              "    background-color: var(--hover-bg-color);\n",
              "    box-shadow: 0 1px 2px rgba(60, 64, 67, 0.3), 0 1px 3px 1px rgba(60, 64, 67, 0.15);\n",
              "    fill: var(--button-hover-fill-color);\n",
              "  }\n",
              "\n",
              "  .colab-df-quickchart-complete:disabled,\n",
              "  .colab-df-quickchart-complete:disabled:hover {\n",
              "    background-color: var(--disabled-bg-color);\n",
              "    fill: var(--disabled-fill-color);\n",
              "    box-shadow: none;\n",
              "  }\n",
              "\n",
              "  .colab-df-spinner {\n",
              "    border: 2px solid var(--fill-color);\n",
              "    border-color: transparent;\n",
              "    border-bottom-color: var(--fill-color);\n",
              "    animation:\n",
              "      spin 1s steps(1) infinite;\n",
              "  }\n",
              "\n",
              "  @keyframes spin {\n",
              "    0% {\n",
              "      border-color: transparent;\n",
              "      border-bottom-color: var(--fill-color);\n",
              "      border-left-color: var(--fill-color);\n",
              "    }\n",
              "    20% {\n",
              "      border-color: transparent;\n",
              "      border-left-color: var(--fill-color);\n",
              "      border-top-color: var(--fill-color);\n",
              "    }\n",
              "    30% {\n",
              "      border-color: transparent;\n",
              "      border-left-color: var(--fill-color);\n",
              "      border-top-color: var(--fill-color);\n",
              "      border-right-color: var(--fill-color);\n",
              "    }\n",
              "    40% {\n",
              "      border-color: transparent;\n",
              "      border-right-color: var(--fill-color);\n",
              "      border-top-color: var(--fill-color);\n",
              "    }\n",
              "    60% {\n",
              "      border-color: transparent;\n",
              "      border-right-color: var(--fill-color);\n",
              "    }\n",
              "    80% {\n",
              "      border-color: transparent;\n",
              "      border-right-color: var(--fill-color);\n",
              "      border-bottom-color: var(--fill-color);\n",
              "    }\n",
              "    90% {\n",
              "      border-color: transparent;\n",
              "      border-bottom-color: var(--fill-color);\n",
              "    }\n",
              "  }\n",
              "</style>\n",
              "\n",
              "  <script>\n",
              "    async function quickchart(key) {\n",
              "      const quickchartButtonEl =\n",
              "        document.querySelector('#' + key + ' button');\n",
              "      quickchartButtonEl.disabled = true;  // To prevent multiple clicks.\n",
              "      quickchartButtonEl.classList.add('colab-df-spinner');\n",
              "      try {\n",
              "        const charts = await google.colab.kernel.invokeFunction(\n",
              "            'suggestCharts', [key], {});\n",
              "      } catch (error) {\n",
              "        console.error('Error during call to suggestCharts:', error);\n",
              "      }\n",
              "      quickchartButtonEl.classList.remove('colab-df-spinner');\n",
              "      quickchartButtonEl.classList.add('colab-df-quickchart-complete');\n",
              "    }\n",
              "    (() => {\n",
              "      let quickchartButtonEl =\n",
              "        document.querySelector('#df-eeb0486b-86d1-45c4-86fb-8daca295ee3e button');\n",
              "      quickchartButtonEl.style.display =\n",
              "        google.colab.kernel.accessAllowed ? 'block' : 'none';\n",
              "    })();\n",
              "  </script>\n",
              "</div>\n",
              "\n",
              "    </div>\n",
              "  </div>\n"
            ],
            "application/vnd.google.colaboratory.intrinsic+json": {
              "type": "dataframe",
              "variable_name": "df",
              "summary": "{\n  \"name\": \"df\",\n  \"rows\": 74,\n  \"fields\": [\n    {\n      \"column\": \"query\",\n      \"properties\": {\n        \"dtype\": \"string\",\n        \"num_unique_values\": 74,\n        \"samples\": [\n          \"I have a question about my bill.\",\n          \"Can I get a replacement part for my product?\",\n          \"Can I place a bulk order?\"\n        ],\n        \"semantic_type\": \"\",\n        \"description\": \"\"\n      }\n    },\n    {\n      \"column\": \"response\",\n      \"properties\": {\n        \"dtype\": \"string\",\n        \"num_unique_values\": 73,\n        \"samples\": [\n          \"We'd be happy to help. Can you please provide your account number and a brief description of your question?\",\n          \"We do offer free shipping on select orders. Can you please provide the product name or SKU and your shipping destination so we can check if your order qualifies?\",\n          \"Certainly. Can you please provide the product name or SKU, and the quantity you'd like to order so we can check availability and pricing?\"\n        ],\n        \"semantic_type\": \"\",\n        \"description\": \"\"\n      }\n    }\n  ]\n}"
            }
          },
          "metadata": {},
          "execution_count": 5
        }
      ]
    },
    {
      "cell_type": "code",
      "source": [
        "# convert to jsonl\n",
        "with open('customer_support.jsonl','w') as f:\n",
        "  for _,row in df.iterrows():\n",
        "    json_line = json.dumps({\"messages\":[{\"role\": \"system\",\"content\": \"You are a helpful assistant for Customer SUpport\",\n",
        "                                        \"role\": \"user\",\"content\": row[\"query\"],\n",
        "                                         \"role\": \"assistant\", \"content\": row[\"response\"]}]\n",
        "                            })\n",
        "    f.write(json_line + '\\n')"
      ],
      "metadata": {
        "id": "gKBLWEHFC-7-"
      },
      "execution_count": 6,
      "outputs": []
    },
    {
      "cell_type": "code",
      "source": [
        "# upload file for finetuning\n",
        "client = OpenAI()\n",
        "file = client.files.create(\n",
        "  file=open(\"customer_support.jsonl\", \"rb\"),\n",
        "  purpose='fine-tune'\n",
        ")"
      ],
      "metadata": {
        "id": "XnuTeqQvEVWu"
      },
      "execution_count": 9,
      "outputs": []
    },
    {
      "cell_type": "code",
      "source": [
        "file"
      ],
      "metadata": {
        "colab": {
          "base_uri": "https://localhost:8080/"
        },
        "id": "REiWN8NZEkAP",
        "outputId": "572ad635-6c28-492c-8ee5-700949185412"
      },
      "execution_count": 10,
      "outputs": [
        {
          "output_type": "execute_result",
          "data": {
            "text/plain": [
              "FileObject(id='file-Rj4XJpT6CsMnHRGfarKMmd', bytes=13481, created_at=1744479367, filename='customer_support.jsonl', object='file', purpose='fine-tune', status='processed', expires_at=None, status_details=None)"
            ]
          },
          "metadata": {},
          "execution_count": 10
        }
      ]
    },
    {
      "cell_type": "code",
      "source": [
        "#finetune the model\n",
        "client.fine_tuning.jobs.create(\n",
        "    training_file=file.id,\n",
        "    model = 'gpt-4o-mini-2024-07-18',\n",
        "    suffix = 'customer_support_bot'\n",
        ")"
      ],
      "metadata": {
        "colab": {
          "base_uri": "https://localhost:8080/"
        },
        "id": "iLYjblZXEsd9",
        "outputId": "33724dd5-b642-44c0-881d-11af0b30750f"
      },
      "execution_count": 11,
      "outputs": [
        {
          "output_type": "execute_result",
          "data": {
            "text/plain": [
              "FineTuningJob(id='ftjob-l2lJ0YMufhhh0n6MxSGyyJnv', created_at=1744479466, error=Error(code=None, message=None, param=None), fine_tuned_model=None, finished_at=None, hyperparameters=Hyperparameters(batch_size='auto', learning_rate_multiplier='auto', n_epochs='auto'), model='gpt-4o-mini-2024-07-18', object='fine_tuning.job', organization_id='org-aKvDrUEOep2Iq75lPC0hrHSf', result_files=[], seed=831172503, status='validating_files', trained_tokens=None, training_file='file-Rj4XJpT6CsMnHRGfarKMmd', validation_file=None, estimated_finish=None, integrations=[], metadata=None, method=Method(dpo=None, supervised=MethodSupervised(hyperparameters=MethodSupervisedHyperparameters(batch_size='auto', learning_rate_multiplier='auto', n_epochs='auto')), type='supervised'), user_provided_suffix='customer_support_bot')"
            ]
          },
          "metadata": {},
          "execution_count": 11
        }
      ]
    },
    {
      "cell_type": "code",
      "source": [
        "#monitor and use finetuned model\n",
        "client.fine_tuning.jobs.list()"
      ],
      "metadata": {
        "colab": {
          "base_uri": "https://localhost:8080/"
        },
        "id": "fa0kMcHVFC7O",
        "outputId": "945191ee-9720-4e7c-8897-71725eab304f"
      },
      "execution_count": 12,
      "outputs": [
        {
          "output_type": "execute_result",
          "data": {
            "text/plain": [
              "SyncCursorPage[FineTuningJob](data=[FineTuningJob(id='ftjob-l2lJ0YMufhhh0n6MxSGyyJnv', created_at=1744479466, error=Error(code=None, message=None, param=None), fine_tuned_model=None, finished_at=None, hyperparameters=Hyperparameters(batch_size=1, learning_rate_multiplier=1.8, n_epochs=3), model='gpt-4o-mini-2024-07-18', object='fine_tuning.job', organization_id='org-aKvDrUEOep2Iq75lPC0hrHSf', result_files=[], seed=831172503, status='validating_files', trained_tokens=None, training_file='file-Rj4XJpT6CsMnHRGfarKMmd', validation_file=None, estimated_finish=None, integrations=[], metadata=None, method=Method(dpo=None, supervised=MethodSupervised(hyperparameters=MethodSupervisedHyperparameters(batch_size=1, learning_rate_multiplier=1.8, n_epochs=3)), type='supervised'), user_provided_suffix='customer_support_bot'), FineTuningJob(id='ftjob-DjLQKcMobYwqTz9wx7WNnrVd', created_at=1744453257, error=Error(code=None, message=None, param=None), fine_tuned_model='ft:gpt-4o-mini-2024-07-18:smruthi:genai-program-faq:BLSLVKU7', finished_at=1744453548, hyperparameters=Hyperparameters(batch_size=1, learning_rate_multiplier=1.8, n_epochs=3), model='gpt-4o-mini-2024-07-18', object='fine_tuning.job', organization_id='org-aKvDrUEOep2Iq75lPC0hrHSf', result_files=['file-WSB7gJfTN4e5CZ7cxFZB4v'], seed=1332629330, status='succeeded', trained_tokens=2163, training_file='file-2z9y6GqgpJ5tgfLzuoRc5i', validation_file=None, estimated_finish=None, integrations=[], metadata=None, method=Method(dpo=None, supervised=MethodSupervised(hyperparameters=MethodSupervisedHyperparameters(batch_size=1, learning_rate_multiplier=1.8, n_epochs=3)), type='supervised'), user_provided_suffix='GenAI_Program_FAQ'), FineTuningJob(id='ftjob-Zh0SPZGxcwUzPRbreN4kZ6GH', created_at=1744452912, error=Error(code=None, message=None, param=None), fine_tuned_model='ft:gpt-4o-mini-2024-07-18:smruthi:genai-program-faq:BLSHM3dC', finished_at=1744453290, hyperparameters=Hyperparameters(batch_size=1, learning_rate_multiplier=1.8, n_epochs=3), model='gpt-4o-mini-2024-07-18', object='fine_tuning.job', organization_id='org-aKvDrUEOep2Iq75lPC0hrHSf', result_files=['file-ERS4B5utMwHTs7tVhQL35G'], seed=600367548, status='succeeded', trained_tokens=2163, training_file='file-2z9y6GqgpJ5tgfLzuoRc5i', validation_file=None, estimated_finish=None, integrations=[], metadata=None, method=Method(dpo=None, supervised=MethodSupervised(hyperparameters=MethodSupervisedHyperparameters(batch_size=1, learning_rate_multiplier=1.8, n_epochs=3)), type='supervised'), user_provided_suffix='GenAI_Program_FAQ'), FineTuningJob(id='ftjob-qNpq5mxy5ytU3pgoVQ1MMCjx', created_at=1744452898, error=Error(code='invalid_training_file', message='The job failed due to an invalid training file. Invalid file format. Example 1, message 1 has an invalid value for \"role\". Got asssistant, expected one of \\'assistant\\', \\'function\\', \\'system\\', \\'developer\\', \\'user\\', \\'tool\\'.', param='training_file'), fine_tuned_model=None, finished_at=None, hyperparameters=Hyperparameters(batch_size='auto', learning_rate_multiplier='auto', n_epochs='auto'), model='gpt-4o-mini-2024-07-18', object='fine_tuning.job', organization_id='org-aKvDrUEOep2Iq75lPC0hrHSf', result_files=[], seed=1798810823, status='failed', trained_tokens=None, training_file='file-8kWNFCjEwHWq57zHesnWqF', validation_file=None, estimated_finish=None, integrations=[], metadata=None, method=Method(dpo=None, supervised=MethodSupervised(hyperparameters=MethodSupervisedHyperparameters(batch_size='auto', learning_rate_multiplier='auto', n_epochs='auto')), type='supervised'), user_provided_suffix='GenAI_Program_FAQ'), FineTuningJob(id='ftjob-Q8dA8kZjAXlr9CqPY1giIaEx', created_at=1744452710, error=Error(code='invalid_training_file', message='The job failed due to an invalid training file. Invalid file format. Example 1, message 1 has an invalid value for \"role\". Got asssistant, expected one of \\'assistant\\', \\'function\\', \\'system\\', \\'developer\\', \\'user\\', \\'tool\\'.', param='training_file'), fine_tuned_model=None, finished_at=None, hyperparameters=Hyperparameters(batch_size='auto', learning_rate_multiplier='auto', n_epochs='auto'), model='gpt-4o-mini-2024-07-18', object='fine_tuning.job', organization_id='org-aKvDrUEOep2Iq75lPC0hrHSf', result_files=[], seed=2135147933, status='failed', trained_tokens=None, training_file='file-8kWNFCjEwHWq57zHesnWqF', validation_file=None, estimated_finish=None, integrations=[], metadata=None, method=Method(dpo=None, supervised=MethodSupervised(hyperparameters=MethodSupervisedHyperparameters(batch_size='auto', learning_rate_multiplier='auto', n_epochs='auto')), type='supervised'), user_provided_suffix='GenAI_Program_FAQ'), FineTuningJob(id='ftjob-eLikUK2dMvqaqx1Zf5bXA13Q', created_at=1744393328, error=Error(code=None, message=None, param=None), fine_tuned_model='ft:gpt-4o-mini-2024-07-18:smruthi:faq-finetuning:BLCkGyuN', finished_at=1744393579, hyperparameters=Hyperparameters(batch_size=1, learning_rate_multiplier=1.0, n_epochs=1), model='gpt-4o-mini-2024-07-18', object='fine_tuning.job', organization_id='org-aKvDrUEOep2Iq75lPC0hrHSf', result_files=['file-FtYhB6Lqcz46ehjmTmxSwK'], seed=42, status='succeeded', trained_tokens=2026, training_file='file-7nHN3jSrZs6tPqLcppJNrM', validation_file=None, estimated_finish=None, integrations=[], metadata=None, method=Method(dpo=None, supervised=MethodSupervised(hyperparameters=MethodSupervisedHyperparameters(batch_size=1, learning_rate_multiplier=1.0, n_epochs=1)), type='supervised'), user_provided_suffix='FAQ-finetuning')], has_more=False, object='list')"
            ]
          },
          "metadata": {},
          "execution_count": 12
        }
      ]
    },
    {
      "cell_type": "code",
      "source": [
        "#use the finetuned model ft:gpt-4o-mini-2024-07-18:smruthi:faq-finetuning:BLCkGyuN\n",
        "completion = client.chat.completions.create(\n",
        "  model=\"ft:gpt-4o-mini-2024-07-18:smruthi:faq-finetuning:BLCkGyuN\",\n",
        "  messages=[\n",
        "        {\"role\": \"system\", \"content\": \"You are a helpful assistant.\"},\n",
        "        {\"role\": \"user\", \"content\": \"how to return an item?\"}\n",
        "    ]\n",
        ")\n",
        "print(\"Fine-tuned model response:\", completion.choices[0].message.content)"
      ],
      "metadata": {
        "colab": {
          "base_uri": "https://localhost:8080/"
        },
        "id": "2CCcHlQxFPXx",
        "outputId": "dc82db72-dfdf-472c-dc2f-e6784fdb0644"
      },
      "execution_count": 14,
      "outputs": [
        {
          "output_type": "stream",
          "name": "stdout",
          "text": [
            "Fine-tuned model response: Returning an item typically involves a few steps, and the process may vary depending on the retailer. Here’s a general guideline on how to return an item:\n",
            "\n",
            "1. **Check the Return Policy**: Before initiating a return, review the retailer’s return policy. This information can usually be found on their website or on your receipt.\n",
            "\n",
            "2. **Contact Customer Service (if necessary)**: If you have questions about the return process, reach out to customer service for assistance. \n",
            "\n",
            "3. **Prepare the Item**: \n",
            "   - Ensure the item is in its original condition with all packaging and tags intact (if required).\n",
            "   - Gather all receipts, invoices, or order confirmations.\n",
            "\n",
            "4. **Fill Out Return Form**: Some retailers provide a return form that you need to fill out and include with the return package. \n",
            "\n",
            "5. **Repackage the Item**: Pack the item securely in its original packaging, if possible.\n",
            "\n",
            "6. **Choose a Return Method**: Depending on the retailer, you may have different options for returning the item, such as:\n",
            "   - In-store return\n",
            "   - Shipping it back\n",
            "   - Using a designated return location (like a drop-off point)\n",
            "\n",
            "7. **Send the Item Back**: If returning by mail, take the package to the post office or designated shipping location and keep the tracking details.\n",
            "\n",
            "8. **Track the Return**: If you returned the item by mail, tracking it can help you ensure it gets to the retailer.\n",
            "\n",
            "9. **Wait for Processing**: Once the retailer receives the item, they will process your return and typically issue a refund or exchange.\n",
            "\n",
            "10. **Check Refund Status**: Monitor your bank account or payment method for the refund, and allow a few days for processing if necessary.\n",
            "\n",
            "Always keep any tracking numbers or receipts until the return is completed and the refund processed.\n"
          ]
        }
      ]
    },
    {
      "cell_type": "code",
      "source": [
        "completion = client.chat.completions.create(\n",
        "  model=\"ft:gpt-4o-mini-2024-07-18:smruthi:faq-finetuning:BLCkGyuN\",\n",
        "  messages=[\n",
        "        {\"role\": \"system\", \"content\": \"You are a helpful assistant.\"},\n",
        "        {\"role\": \"user\", \"content\": \"can i cancel any order?\"}\n",
        "    ]\n",
        ")\n",
        "print(\"Fine-tuned model response:\", completion.choices[0].message.content)"
      ],
      "metadata": {
        "colab": {
          "base_uri": "https://localhost:8080/"
        },
        "id": "zPHpDMwlF_M5",
        "outputId": "1ecf889e-f88c-494e-87de-5b6ec3e35911"
      },
      "execution_count": 15,
      "outputs": [
        {
          "output_type": "stream",
          "name": "stdout",
          "text": [
            "Fine-tuned model response: Whether you can cancel an order depends on the store or service’s policies, the status of your order, and the terms under which you made the purchase. Most online retailers allow order cancellations within a certain time frame. It’s best to check the specific cancellation policy on the retailer’s website or contact their customer service for assistance.\n"
          ]
        }
      ]
    },
    {
      "cell_type": "code",
      "source": [
        "completion = client.chat.completions.create(\n",
        "  model=\"ft:gpt-4o-mini-2024-07-18:smruthi:faq-finetuning:BLCkGyuN\",\n",
        "  messages=[\n",
        "        {\"role\": \"system\", \"content\": \"You are a helpful assistant.\"},\n",
        "        {\"role\": \"user\", \"content\": \"Can I place oredr from India?\"}\n",
        "    ]\n",
        ")\n",
        "print(\"Fine-tuned model response:\", completion.choices[0].message.content)"
      ],
      "metadata": {
        "colab": {
          "base_uri": "https://localhost:8080/"
        },
        "id": "cKBxfUnXGUK_",
        "outputId": "90c32e11-b897-4b9c-c334-eaa22a64c904"
      },
      "execution_count": 16,
      "outputs": [
        {
          "output_type": "stream",
          "name": "stdout",
          "text": [
            "Fine-tuned model response: Yes, you can place orders from India, depending on the specific context. If you are referring to purchasing products from international websites, many e-commerce platforms ship to India. However, it's important to check the shipping policies, import duties, and ensure that the seller delivers to your location in India. If you have a specific site or product in mind, I can provide more tailored assistance.\n"
          ]
        }
      ]
    },
    {
      "cell_type": "code",
      "source": [],
      "metadata": {
        "id": "QltuGrmMGcE9"
      },
      "execution_count": null,
      "outputs": []
    }
  ]
}